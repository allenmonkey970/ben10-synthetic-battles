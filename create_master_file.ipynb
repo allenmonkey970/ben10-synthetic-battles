{
 "cells": [
  {
   "metadata": {},
   "cell_type": "markdown",
   "source": "This notebook combines three Ben 10 datasets, alien attributes, enemy relationships, and battle history into a single master file. It merges each battle record with detailed stats for both the alien and its opponent, includes enemy network info, and outputs a master CSV file.",
   "id": "8f5a9b8785279a47"
  },
  {
   "cell_type": "code",
   "id": "initial_id",
   "metadata": {
    "collapsed": true,
    "ExecuteTime": {
     "end_time": "2025-06-12T04:49:41.406567Z",
     "start_time": "2025-06-12T04:49:41.396913Z"
    }
   },
   "source": [
    "import pandas as pd\n",
    "\n",
    "# Load the data\n",
    "aliens = pd.read_csv('datasets/ben10_aliens.csv')\n",
    "enemies = pd.read_csv('datasets/ben10_enemies.csv')\n",
    "battles = pd.read_csv('datasets/ben10_battles.csv')"
   ],
   "outputs": [],
   "execution_count": 47
  },
  {
   "metadata": {
    "ExecuteTime": {
     "end_time": "2025-06-12T04:49:41.428475Z",
     "start_time": "2025-06-12T04:49:41.423707Z"
    }
   },
   "cell_type": "code",
   "source": [
    "print(\"aliens:\", aliens.columns.tolist())\n",
    "print(\"enemies:\", enemies.columns.tolist())\n",
    "print(\"battles:\", battles.columns.tolist())"
   ],
   "id": "c42c2bfe46fcac16",
   "outputs": [
    {
     "name": "stdout",
     "output_type": "stream",
     "text": [
      "aliens: ['alien_id', 'alien_name', 'species', 'home_planet', 'strength_level', 'speed_level', 'intelligence']\n",
      "enemies: ['enemy_id', 'alien_name', 'enemy_name']\n",
      "battles: ['battle_id', 'alien_name', 'enemy_name', 'battle_date', 'winner']\n"
     ]
    }
   ],
   "execution_count": 48
  },
  {
   "metadata": {
    "ExecuteTime": {
     "end_time": "2025-06-12T04:49:41.456953Z",
     "start_time": "2025-06-12T04:49:41.451968Z"
    }
   },
   "cell_type": "code",
   "source": [
    "# Clean up column names (trim whitespace)\n",
    "aliens.columns = aliens.columns.str.strip()\n",
    "enemies.columns = enemies.columns.str.strip()\n",
    "battles.columns = battles.columns.str.strip()"
   ],
   "id": "828247ec6d04077f",
   "outputs": [],
   "execution_count": 49
  },
  {
   "metadata": {
    "ExecuteTime": {
     "end_time": "2025-06-12T04:49:41.483783Z",
     "start_time": "2025-06-12T04:49:41.476511Z"
    }
   },
   "cell_type": "code",
   "source": [
    "# Merge alien stats (attacker)\n",
    "battles_merged = battles.merge(\n",
    "    aliens, left_on='alien_name', right_on='alien_name', how='left', suffixes=('', '_alien1')\n",
    ")\n",
    "battles_merged = battles_merged.rename(columns={\n",
    "    'species': 'alien1_species',\n",
    "    'home_planet': 'alien1_home_planet',\n",
    "    'strength_level': 'alien1_strength_level',\n",
    "    'speed_level': 'alien1_speed_level',\n",
    "    'intelligence': 'alien1_intelligence'\n",
    "})\n"
   ],
   "id": "3f05773af4cec66a",
   "outputs": [],
   "execution_count": 50
  },
  {
   "metadata": {
    "ExecuteTime": {
     "end_time": "2025-06-12T04:49:41.515727Z",
     "start_time": "2025-06-12T04:49:41.509347Z"
    }
   },
   "cell_type": "code",
   "source": [
    "# Merge enemy stats (defender)\n",
    "battles_merged = battles_merged.merge(\n",
    "    aliens, left_on='enemy_name', right_on='alien_name', how='left', suffixes=('', '_alien2')\n",
    ")\n",
    "battles_merged = battles_merged.rename(columns={\n",
    "    'species': 'alien2_species',\n",
    "    'home_planet': 'alien2_home_planet',\n",
    "    'strength_level': 'alien2_strength_level',\n",
    "    'speed_level': 'alien2_speed_level',\n",
    "    'intelligence': 'alien2_intelligence'\n",
    "})"
   ],
   "id": "ddc62f178168085f",
   "outputs": [],
   "execution_count": 51
  },
  {
   "metadata": {
    "ExecuteTime": {
     "end_time": "2025-06-12T04:49:41.542689Z",
     "start_time": "2025-06-12T04:49:41.536161Z"
    }
   },
   "cell_type": "code",
   "source": [
    "# Merge enemy relationship for enemy_id\n",
    "battles_merged = battles_merged.merge(\n",
    "    enemies[['enemy_id', 'alien_name', 'enemy_name']],\n",
    "    on=['alien_name', 'enemy_name'],\n",
    "    how='left'\n",
    ")"
   ],
   "id": "c86a37d1ab9e40d",
   "outputs": [],
   "execution_count": 52
  },
  {
   "metadata": {
    "ExecuteTime": {
     "end_time": "2025-06-12T04:49:41.578335Z",
     "start_time": "2025-06-12T04:49:41.573407Z"
    }
   },
   "cell_type": "code",
   "source": [
    "# Drop all id columns and duplicate 'alien_name' columns\n",
    "cols_to_drop = [\n",
    "    'alien_id', 'enemy_id', 'battle_id, enemy_id, battle_date',\n",
    "]\n",
    "for col in cols_to_drop:\n",
    "    if col in battles_merged.columns:\n",
    "        battles_merged = battles_merged.drop(columns=[col])"
   ],
   "id": "f95d730e8d853ee2",
   "outputs": [],
   "execution_count": 53
  },
  {
   "metadata": {
    "ExecuteTime": {
     "end_time": "2025-06-12T04:49:41.606621Z",
     "start_time": "2025-06-12T04:49:41.600394Z"
    }
   },
   "cell_type": "code",
   "source": [
    "# Select and order final columns\n",
    "final_columns = [\n",
    "    'alien_name',\n",
    "    'enemy_name',\n",
    "    'alien1_species',\n",
    "    'alien1_home_planet',\n",
    "    'alien1_strength_level',\n",
    "    'alien1_speed_level',\n",
    "    'alien1_intelligence',\n",
    "    'alien2_species',\n",
    "    'alien2_home_planet',\n",
    "    'alien2_strength_level',\n",
    "    'alien2_speed_level',\n",
    "    'alien2_intelligence',\n",
    "    'winner'\n",
    "]\n",
    "battles_final = battles_merged[final_columns]\n",
    "\n",
    "# Save to CSV\n",
    "battles_final.to_csv('datasets/ben10_master.csv', index=False)\n",
    "print(\"Master file created as ben10_master.csv\")"
   ],
   "id": "317c81a0a698b1f3",
   "outputs": [
    {
     "name": "stdout",
     "output_type": "stream",
     "text": [
      "Master file created as ben10_master.csv\n"
     ]
    }
   ],
   "execution_count": 54
  }
 ],
 "metadata": {
  "kernelspec": {
   "display_name": "Python 3",
   "language": "python",
   "name": "python3"
  },
  "language_info": {
   "codemirror_mode": {
    "name": "ipython",
    "version": 2
   },
   "file_extension": ".py",
   "mimetype": "text/x-python",
   "name": "python",
   "nbconvert_exporter": "python",
   "pygments_lexer": "ipython2",
   "version": "2.7.6"
  }
 },
 "nbformat": 4,
 "nbformat_minor": 5
}
