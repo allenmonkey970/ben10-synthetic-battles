{
 "cells": [
  {
   "cell_type": "code",
   "id": "initial_id",
   "metadata": {
    "collapsed": true,
    "ExecuteTime": {
     "end_time": "2025-06-19T14:36:17.044236Z",
     "start_time": "2025-06-19T14:36:17.038898Z"
    }
   },
   "source": [
    "from sdv.evaluation.single_table import run_diagnostic, evaluate_quality, get_column_plot\n",
    "from sdv.metadata import SingleTableMetadata\n",
    "import pandas as pd\n",
    "import os"
   ],
   "outputs": [],
   "execution_count": 125
  },
  {
   "metadata": {
    "ExecuteTime": {
     "end_time": "2025-06-19T14:36:17.078125Z",
     "start_time": "2025-06-19T14:36:17.074232Z"
    }
   },
   "cell_type": "code",
   "source": [
    "# Constants\n",
    "REAL_DATA_PATH = \"../datasets/ben10_master.csv\"\n",
    "METADATA_PATH = \"../Synthetic Data/metadata.json\"\n",
    "COLUMN_TO_PLOT = \"winner\"  # Change this to the column you want to plot"
   ],
   "id": "1cbe405bc763d23e",
   "outputs": [],
   "execution_count": 126
  },
  {
   "metadata": {
    "ExecuteTime": {
     "end_time": "2025-06-19T14:36:17.127210Z",
     "start_time": "2025-06-19T14:36:17.117838Z"
    }
   },
   "cell_type": "code",
   "source": [
    "real_data = pd.read_csv(REAL_DATA_PATH)\n",
    "if os.path.exists(METADATA_PATH):\n",
    "    metadata = SingleTableMetadata.load_from_json(METADATA_PATH)\n",
    "    print(\"Loaded metadata from metadata.json\")\n",
    "else:\n",
    "    metadata = SingleTableMetadata()\n",
    "    metadata.detect_from_dataframe(\n",
    "        data=real_data,\n",
    "    )\n",
    "    metadata.save_to_json(METADATA_PATH)\n",
    "    print(\"Created and saved new metadata to metadata.json\")"
   ],
   "id": "54d6f89a741e15cb",
   "outputs": [
    {
     "name": "stdout",
     "output_type": "stream",
     "text": [
      "Loaded metadata from metadata.json\n"
     ]
    }
   ],
   "execution_count": 127
  },
  {
   "metadata": {
    "ExecuteTime": {
     "end_time": "2025-06-19T14:36:17.172736Z",
     "start_time": "2025-06-19T14:36:17.166233Z"
    }
   },
   "cell_type": "code",
   "source": [
    "synthesizers = [\n",
    "    {\n",
    "        'name': 'CopulaGAN',\n",
    "        'output': '../datasets/ben10_CopulaGAN_synthetic.csv'\n",
    "    },\n",
    "    {\n",
    "        'name': 'CTGAN',\n",
    "        'output': '../datasets/ben10_CTGAN_synthetic.csv'\n",
    "    },\n",
    "    {\n",
    "        'name': 'GaussianCopula',\n",
    "        'output': '../datasets/ben10_GaussianCopula_synthetic.csv'\n",
    "    },\n",
    "    {\n",
    "        'name': 'TVAE',\n",
    "        'output': '../datasets/ben10_TVAE_synthetic.csv'\n",
    "    }\n",
    "]"
   ],
   "id": "66b14482b8ed4662",
   "outputs": [],
   "execution_count": 128
  },
  {
   "metadata": {
    "ExecuteTime": {
     "end_time": "2025-06-19T14:36:22.368563Z",
     "start_time": "2025-06-19T14:36:17.204838Z"
    }
   },
   "cell_type": "code",
   "source": [
    "for synth in synthesizers:\n",
    "    print(f\"--- {synth['name']} ---\")\n",
    "    synthetic_data = pd.read_csv(synth['output'])\n",
    "\n",
    "    diagnostic = run_diagnostic(real_data, synthetic_data, metadata)\n",
    "\n",
    "    quality_report = evaluate_quality(real_data, synthetic_data, metadata)\n",
    "\n",
    "    fig = get_column_plot(\n",
    "        real_data=real_data,\n",
    "        synthetic_data=synthetic_data,\n",
    "        metadata=metadata,\n",
    "        column_name=COLUMN_TO_PLOT\n",
    "    )\n",
    "    fig.show()"
   ],
   "id": "9220b5759c2633f5",
   "outputs": [
    {
     "name": "stdout",
     "output_type": "stream",
     "text": [
      "--- CopulaGAN ---\n",
      "Generating report ...\n",
      "\n",
      "(1/2) Evaluating Data Validity: |██████████| 13/13 [00:00<00:00, 1264.55it/s]|\n",
      "Data Validity Score: 100.0%\n",
      "\n",
      "(2/2) Evaluating Data Structure: |██████████| 1/1 [00:00<00:00, 100.16it/s]|\n",
      "Data Structure Score: 100.0%\n",
      "\n",
      "Overall Score (Average): 100.0%\n",
      "\n",
      "Generating report ...\n",
      "\n",
      "(1/2) Evaluating Column Shapes: |██████████| 13/13 [00:00<00:00, 318.79it/s]|\n",
      "Column Shapes Score: 91.97%\n",
      "\n",
      "(2/2) Evaluating Column Pair Trends: |██████████| 78/78 [00:00<00:00, 132.35it/s]|\n",
      "Column Pair Trends Score: 48.89%\n",
      "\n",
      "Overall Score (Average): 70.43%\n",
      "\n"
     ]
    },
    {
     "data": {
      "text/html": [
       "<iframe\n",
       "    scrolling=\"no\"\n",
       "    width=\"100%\"\n",
       "    height=\"545px\"\n",
       "    src=\"iframe_figures/figure_129.html\"\n",
       "    frameborder=\"0\"\n",
       "    allowfullscreen\n",
       "></iframe>\n"
      ]
     },
     "metadata": {},
     "output_type": "display_data"
    },
    {
     "name": "stdout",
     "output_type": "stream",
     "text": [
      "--- CTGAN ---\n",
      "Generating report ...\n",
      "\n",
      "(1/2) Evaluating Data Validity: |██████████| 13/13 [00:00<00:00, 490.36it/s]|\n",
      "Data Validity Score: 100.0%\n",
      "\n",
      "(2/2) Evaluating Data Structure: |██████████| 1/1 [00:00<00:00, 331.67it/s]|\n",
      "Data Structure Score: 100.0%\n",
      "\n",
      "Overall Score (Average): 100.0%\n",
      "\n",
      "Generating report ...\n",
      "\n",
      "(1/2) Evaluating Column Shapes: |██████████| 13/13 [00:00<00:00, 359.20it/s]|\n",
      "Column Shapes Score: 94.09%\n",
      "\n",
      "(2/2) Evaluating Column Pair Trends: |██████████| 78/78 [00:00<00:00, 114.44it/s]|\n",
      "Column Pair Trends Score: 68.94%\n",
      "\n",
      "Overall Score (Average): 81.52%\n",
      "\n"
     ]
    },
    {
     "data": {
      "text/html": [
       "<iframe\n",
       "    scrolling=\"no\"\n",
       "    width=\"100%\"\n",
       "    height=\"545px\"\n",
       "    src=\"iframe_figures/figure_129.html\"\n",
       "    frameborder=\"0\"\n",
       "    allowfullscreen\n",
       "></iframe>\n"
      ]
     },
     "metadata": {},
     "output_type": "display_data"
    },
    {
     "name": "stdout",
     "output_type": "stream",
     "text": [
      "--- GaussianCopula ---\n",
      "Generating report ...\n",
      "\n",
      "(1/2) Evaluating Data Validity: |██████████| 13/13 [00:00<00:00, 810.34it/s]|\n",
      "Data Validity Score: 100.0%\n",
      "\n",
      "(2/2) Evaluating Data Structure: |██████████| 1/1 [00:00<00:00, 458.14it/s]|\n",
      "Data Structure Score: 100.0%\n",
      "\n",
      "Overall Score (Average): 100.0%\n",
      "\n",
      "Generating report ...\n",
      "\n",
      "(1/2) Evaluating Column Shapes: |██████████| 13/13 [00:00<00:00, 375.15it/s]|\n",
      "Column Shapes Score: 97.45%\n",
      "\n",
      "(2/2) Evaluating Column Pair Trends: |██████████| 78/78 [00:00<00:00, 106.25it/s]|\n",
      "Column Pair Trends Score: 34.94%\n",
      "\n",
      "Overall Score (Average): 66.2%\n",
      "\n"
     ]
    },
    {
     "data": {
      "text/html": [
       "<iframe\n",
       "    scrolling=\"no\"\n",
       "    width=\"100%\"\n",
       "    height=\"545px\"\n",
       "    src=\"iframe_figures/figure_129.html\"\n",
       "    frameborder=\"0\"\n",
       "    allowfullscreen\n",
       "></iframe>\n"
      ]
     },
     "metadata": {},
     "output_type": "display_data"
    },
    {
     "name": "stdout",
     "output_type": "stream",
     "text": [
      "--- TVAE ---\n",
      "Generating report ...\n",
      "\n",
      "(1/2) Evaluating Data Validity: |██████████| 13/13 [00:00<00:00, 585.49it/s]|\n",
      "Data Validity Score: 100.0%\n",
      "\n",
      "(2/2) Evaluating Data Structure: |██████████| 1/1 [00:00<00:00, 195.41it/s]|\n",
      "Data Structure Score: 100.0%\n",
      "\n",
      "Overall Score (Average): 100.0%\n",
      "\n",
      "Generating report ...\n",
      "\n",
      "(1/2) Evaluating Column Shapes: |██████████| 13/13 [00:00<00:00, 251.53it/s]|\n",
      "Column Shapes Score: 73.68%\n",
      "\n",
      "(2/2) Evaluating Column Pair Trends: |██████████| 78/78 [00:00<00:00, 81.71it/s]|\n",
      "Column Pair Trends Score: 49.1%\n",
      "\n",
      "Overall Score (Average): 61.39%\n",
      "\n"
     ]
    },
    {
     "data": {
      "text/html": [
       "<iframe\n",
       "    scrolling=\"no\"\n",
       "    width=\"100%\"\n",
       "    height=\"545px\"\n",
       "    src=\"iframe_figures/figure_129.html\"\n",
       "    frameborder=\"0\"\n",
       "    allowfullscreen\n",
       "></iframe>\n"
      ]
     },
     "metadata": {},
     "output_type": "display_data"
    }
   ],
   "execution_count": 129
  }
 ],
 "metadata": {
  "kernelspec": {
   "display_name": "Python 3",
   "language": "python",
   "name": "python3"
  },
  "language_info": {
   "codemirror_mode": {
    "name": "ipython",
    "version": 2
   },
   "file_extension": ".py",
   "mimetype": "text/x-python",
   "name": "python",
   "nbconvert_exporter": "python",
   "pygments_lexer": "ipython2",
   "version": "2.7.6"
  }
 },
 "nbformat": 4,
 "nbformat_minor": 5
}
