{
 "cells": [
  {
   "cell_type": "code",
   "id": "initial_id",
   "metadata": {
    "collapsed": true,
    "ExecuteTime": {
     "end_time": "2025-06-13T13:21:52.503713Z",
     "start_time": "2025-06-13T13:21:48.635910Z"
    }
   },
   "source": [
    "import pandas as pd\n",
    "from sdv.single_table import GaussianCopulaSynthesizer\n",
    "from sdv.metadata import Metadata\n",
    "from sdv.metadata import SingleTableMetadata\n",
    "from sdv.evaluation.single_table import get_column_plot\n",
    "from sdv.evaluation.single_table import evaluate_quality\n",
    "import os"
   ],
   "outputs": [],
   "execution_count": 1
  },
  {
   "metadata": {
    "ExecuteTime": {
     "end_time": "2025-06-13T13:21:52.676594Z",
     "start_time": "2025-06-13T13:21:52.668132Z"
    }
   },
   "cell_type": "code",
   "source": [
    "# Load the real data\n",
    "real_data = pd.read_csv('../datasets/ben10_master.csv')"
   ],
   "id": "eb065910871bae60",
   "outputs": [],
   "execution_count": 2
  },
  {
   "metadata": {
    "ExecuteTime": {
     "end_time": "2025-06-13T13:21:52.700858Z",
     "start_time": "2025-06-13T13:21:52.695555Z"
    }
   },
   "cell_type": "code",
   "source": [
    "# Load or create metadata\n",
    "metadata_path = 'metadata.json'\n",
    "\n",
    "if os.path.exists(metadata_path):\n",
    "    metadata = Metadata.load_from_json(metadata_path)\n",
    "    print(\"Loaded metadata from metadata.json\")\n",
    "else:\n",
    "    metadata = Metadata()\n",
    "    metadata.detect_table_from_dataframe(\n",
    "        table_name='ben10_table',\n",
    "        data=real_data\n",
    "    )\n",
    "    metadata.save_to_json(metadata_path)\n",
    "    print(\"Created and saved new metadata to metadata.json\")"
   ],
   "id": "640c15ee2be5a524",
   "outputs": [
    {
     "name": "stdout",
     "output_type": "stream",
     "text": [
      "Loaded metadata from metadata.json\n"
     ]
    }
   ],
   "execution_count": 3
  },
  {
   "metadata": {
    "ExecuteTime": {
     "end_time": "2025-06-13T13:21:53.336484Z",
     "start_time": "2025-06-13T13:21:52.714340Z"
    }
   },
   "cell_type": "code",
   "source": [
    "# Initialize and fit the GaussianCopulaSynthesizer\n",
    "synthesizer = GaussianCopulaSynthesizer(metadata)\n",
    "synthesizer.fit(data=real_data)"
   ],
   "id": "25ff862336f55bb5",
   "outputs": [],
   "execution_count": 4
  },
  {
   "metadata": {
    "ExecuteTime": {
     "end_time": "2025-06-13T13:21:53.525334Z",
     "start_time": "2025-06-13T13:21:53.349975Z"
    }
   },
   "cell_type": "code",
   "source": [
    "# Generate synthetic data\n",
    "synthetic_data = synthesizer.sample(num_rows=10000)"
   ],
   "id": "1243022340c28fdf",
   "outputs": [],
   "execution_count": 5
  },
  {
   "metadata": {
    "ExecuteTime": {
     "end_time": "2025-06-13T13:21:53.932269Z",
     "start_time": "2025-06-13T13:21:53.541259Z"
    }
   },
   "cell_type": "code",
   "source": [
    "# Evaluate the quality of the synthetic data\n",
    "quality_report = evaluate_quality(\n",
    "    real_data,\n",
    "    synthetic_data,\n",
    "    metadata\n",
    ")\n",
    "print(\"Column Shapes Details:\", quality_report.get_details(property_name='Column Shapes'))\n",
    "print(\"Column Pair Trends Details:\", quality_report.get_details(property_name='Column Pair Trends'))"
   ],
   "id": "d92d029c92b6824e",
   "outputs": [
    {
     "name": "stdout",
     "output_type": "stream",
     "text": [
      "Generating report ...\n",
      "\n",
      "(1/2) Evaluating Column Shapes: |██████████| 13/13 [00:00<00:00, 580.21it/s]|\n",
      "Column Shapes Score: 97.45%\n",
      "\n",
      "(2/2) Evaluating Column Pair Trends: |██████████| 78/78 [00:00<00:00, 219.64it/s]|\n",
      "Column Pair Trends Score: 34.94%\n",
      "\n",
      "Overall Score (Average): 66.2%\n",
      "\n",
      "Column Shapes Details:                    Column        Metric     Score\n",
      "0              alien_name  TVComplement  0.963167\n",
      "1              enemy_name  TVComplement  0.969800\n",
      "2          alien1_species  TVComplement  0.958267\n",
      "3      alien1_home_planet  TVComplement  0.974500\n",
      "4   alien1_strength_level  TVComplement  0.978133\n",
      "5      alien1_speed_level  TVComplement  0.969767\n",
      "6     alien1_intelligence  TVComplement  0.988233\n",
      "7          alien2_species  TVComplement  0.973600\n",
      "8      alien2_home_planet  TVComplement  0.976767\n",
      "9   alien2_strength_level  TVComplement  0.983800\n",
      "10     alien2_speed_level  TVComplement  0.988433\n",
      "11    alien2_intelligence  TVComplement  0.973967\n",
      "12                 winner  TVComplement  0.970433\n",
      "Column Pair Trends Details:                  Column 1               Column 2                 Metric  \\\n",
      "0              alien_name             enemy_name  ContingencySimilarity   \n",
      "1              alien_name         alien1_species  ContingencySimilarity   \n",
      "2              alien_name     alien1_home_planet  ContingencySimilarity   \n",
      "3              alien_name  alien1_strength_level  ContingencySimilarity   \n",
      "4              alien_name     alien1_speed_level  ContingencySimilarity   \n",
      "..                    ...                    ...                    ...   \n",
      "73  alien2_strength_level    alien2_intelligence  ContingencySimilarity   \n",
      "74  alien2_strength_level                 winner  ContingencySimilarity   \n",
      "75     alien2_speed_level    alien2_intelligence  ContingencySimilarity   \n",
      "76     alien2_speed_level                 winner  ContingencySimilarity   \n",
      "77    alien2_intelligence                 winner  ContingencySimilarity   \n",
      "\n",
      "       Score  Real Correlation  Synthetic Correlation  \n",
      "0   0.053300               NaN                    NaN  \n",
      "1   0.110400               NaN                    NaN  \n",
      "2   0.059700               NaN                    NaN  \n",
      "3   0.200500               NaN                    NaN  \n",
      "4   0.156200               NaN                    NaN  \n",
      "..       ...               ...                    ...  \n",
      "73  0.663900               NaN                    NaN  \n",
      "74  0.333567               NaN                    NaN  \n",
      "75  0.684567               NaN                    NaN  \n",
      "76  0.315600               NaN                    NaN  \n",
      "77  0.336000               NaN                    NaN  \n",
      "\n",
      "[78 rows x 6 columns]\n"
     ]
    }
   ],
   "execution_count": 6
  },
  {
   "metadata": {
    "ExecuteTime": {
     "end_time": "2025-06-13T13:21:54.551780Z",
     "start_time": "2025-06-13T13:21:53.945905Z"
    }
   },
   "cell_type": "code",
   "source": [
    "# Visualize the distribution of a the winner column\n",
    "fig = get_column_plot(\n",
    "    real_data=real_data,\n",
    "    synthetic_data=synthetic_data,\n",
    "    column_name='winner',\n",
    "    metadata=metadata\n",
    ")\n",
    "\n",
    "fig.show()"
   ],
   "id": "35a5750b6d4b249f",
   "outputs": [
    {
     "data": {
      "text/html": [
       "<iframe\n",
       "    scrolling=\"no\"\n",
       "    width=\"100%\"\n",
       "    height=\"545px\"\n",
       "    src=\"iframe_figures/figure_7.html\"\n",
       "    frameborder=\"0\"\n",
       "    allowfullscreen\n",
       "></iframe>\n"
      ]
     },
     "metadata": {},
     "output_type": "display_data"
    }
   ],
   "execution_count": 7
  }
 ],
 "metadata": {
  "kernelspec": {
   "display_name": "Python 3",
   "language": "python",
   "name": "python3"
  },
  "language_info": {
   "codemirror_mode": {
    "name": "ipython",
    "version": 2
   },
   "file_extension": ".py",
   "mimetype": "text/x-python",
   "name": "python",
   "nbconvert_exporter": "python",
   "pygments_lexer": "ipython2",
   "version": "2.7.6"
  }
 },
 "nbformat": 4,
 "nbformat_minor": 5
}
