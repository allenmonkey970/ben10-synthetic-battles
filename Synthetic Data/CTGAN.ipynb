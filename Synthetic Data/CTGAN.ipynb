{
 "cells": [
  {
   "cell_type": "code",
   "id": "initial_id",
   "metadata": {
    "collapsed": true,
    "ExecuteTime": {
     "end_time": "2025-06-13T13:55:48.946058Z",
     "start_time": "2025-06-13T13:55:48.941771Z"
    }
   },
   "source": [
    "import pandas as pd\n",
    "from sdv.single_table import CTGANSynthesizer\n",
    "from sdv.metadata import Metadata\n",
    "from sdv.metadata import SingleTableMetadata\n",
    "from sdv.evaluation.single_table import get_column_plot\n",
    "from sdv.evaluation.single_table import evaluate_quality\n",
    "import os"
   ],
   "outputs": [],
   "execution_count": 24
  },
  {
   "metadata": {
    "ExecuteTime": {
     "end_time": "2025-06-13T13:55:48.973287Z",
     "start_time": "2025-06-13T13:55:48.967259Z"
    }
   },
   "cell_type": "code",
   "source": [
    "# Load the real data\n",
    "real_data = pd.read_csv('../datasets/ben10_master.csv')"
   ],
   "id": "eb065910871bae60",
   "outputs": [],
   "execution_count": 25
  },
  {
   "metadata": {
    "ExecuteTime": {
     "end_time": "2025-06-13T13:55:48.997414Z",
     "start_time": "2025-06-13T13:55:48.992756Z"
    }
   },
   "cell_type": "code",
   "source": [
    "# Load or create metadata\n",
    "metadata_path = 'metadata.json'\n",
    "\n",
    "if os.path.exists(metadata_path):\n",
    "    metadata = Metadata.load_from_json(metadata_path)\n",
    "    print(\"Loaded metadata from metadata.json\")\n",
    "else:\n",
    "    metadata = Metadata()\n",
    "    metadata.detect_table_from_dataframe(\n",
    "        table_name='ben10_table',\n",
    "        data=real_data\n",
    "    )\n",
    "    metadata.save_to_json(metadata_path)\n",
    "    print(\"Created and saved new metadata to metadata.json\")"
   ],
   "id": "640c15ee2be5a524",
   "outputs": [
    {
     "name": "stdout",
     "output_type": "stream",
     "text": [
      "Loaded metadata from metadata.json\n"
     ]
    }
   ],
   "execution_count": 26
  },
  {
   "metadata": {
    "ExecuteTime": {
     "end_time": "2025-06-13T14:11:01.113120Z",
     "start_time": "2025-06-13T13:55:49.002421Z"
    }
   },
   "cell_type": "code",
   "source": [
    "# Initialize and fit the CTGAN Synthesizer\n",
    "synthesizer = CTGANSynthesizer(\n",
    "    metadata,\n",
    "    enforce_min_max_values = True,\n",
    "    enforce_rounding=False,\n",
    "    epochs=8000,\n",
    "    verbose=True,\n",
    "    cuda=True\n",
    ")\n",
    "synthesizer.fit(data=real_data)"
   ],
   "id": "25ff862336f55bb5",
   "outputs": [
    {
     "name": "stderr",
     "output_type": "stream",
     "text": [
      "Gen. (-0.61) | Discrim. (-0.38): 100%|██████████| 8000/8000 [15:12<00:00,  8.77it/s]\n"
     ]
    }
   ],
   "execution_count": 27
  },
  {
   "metadata": {
    "ExecuteTime": {
     "end_time": "2025-06-13T14:11:01.693943Z",
     "start_time": "2025-06-13T14:11:01.209572Z"
    }
   },
   "cell_type": "code",
   "source": [
    "# Generate synthetic data\n",
    "synthetic_data = synthesizer.sample(num_rows=10000)"
   ],
   "id": "1243022340c28fdf",
   "outputs": [],
   "execution_count": 28
  },
  {
   "metadata": {
    "ExecuteTime": {
     "end_time": "2025-06-13T14:11:01.744234Z",
     "start_time": "2025-06-13T14:11:01.712931Z"
    }
   },
   "cell_type": "code",
   "source": [
    "# Save the synthetic data to a CSV file\n",
    "synthetic_data.to_csv('../datasets/ben10_CTGAN_synthetic.csv', index=False)\n",
    "print(\"Synthetic dataset saved to ../datasets/ben10_synthetic.csv\")"
   ],
   "id": "631ffd8449c3d6b0",
   "outputs": [
    {
     "name": "stdout",
     "output_type": "stream",
     "text": [
      "Synthetic dataset saved to ../datasets/ben10_synthetic.csv\n"
     ]
    }
   ],
   "execution_count": 29
  },
  {
   "metadata": {
    "ExecuteTime": {
     "end_time": "2025-06-13T14:11:02.156581Z",
     "start_time": "2025-06-13T14:11:01.773256Z"
    }
   },
   "cell_type": "code",
   "source": [
    "# Evaluate the quality of the synthetic data\n",
    "quality_report = evaluate_quality(\n",
    "    real_data,\n",
    "    synthetic_data,\n",
    "    metadata\n",
    ")\n",
    "print(\"Column Shapes Details:\", quality_report.get_details(property_name='Column Shapes'))\n",
    "print(\"Column Pair Trends Details:\", quality_report.get_details(property_name='Column Pair Trends'))"
   ],
   "id": "d92d029c92b6824e",
   "outputs": [
    {
     "name": "stdout",
     "output_type": "stream",
     "text": [
      "Generating report ...\n",
      "\n",
      "(1/2) Evaluating Column Shapes: |██████████| 13/13 [00:00<00:00, 590.93it/s]|\n",
      "Column Shapes Score: 95.45%\n",
      "\n",
      "(2/2) Evaluating Column Pair Trends: |██████████| 78/78 [00:00<00:00, 224.77it/s]|\n",
      "Column Pair Trends Score: 81.21%\n",
      "\n",
      "Overall Score (Average): 88.33%\n",
      "\n",
      "Column Shapes Details:                    Column        Metric     Score\n",
      "0              alien_name  TVComplement  0.926000\n",
      "1              enemy_name  TVComplement  0.937833\n",
      "2          alien1_species  TVComplement  0.910867\n",
      "3      alien1_home_planet  TVComplement  0.947333\n",
      "4   alien1_strength_level  TVComplement  0.987267\n",
      "5      alien1_speed_level  TVComplement  0.968400\n",
      "6     alien1_intelligence  TVComplement  0.990267\n",
      "7          alien2_species  TVComplement  0.939700\n",
      "8      alien2_home_planet  TVComplement  0.959733\n",
      "9   alien2_strength_level  TVComplement  0.974833\n",
      "10     alien2_speed_level  TVComplement  0.961967\n",
      "11    alien2_intelligence  TVComplement  0.985100\n",
      "12                 winner  TVComplement  0.918833\n",
      "Column Pair Trends Details:                  Column 1               Column 2                 Metric  \\\n",
      "0              alien_name             enemy_name  ContingencySimilarity   \n",
      "1              alien_name         alien1_species  ContingencySimilarity   \n",
      "2              alien_name     alien1_home_planet  ContingencySimilarity   \n",
      "3              alien_name  alien1_strength_level  ContingencySimilarity   \n",
      "4              alien_name     alien1_speed_level  ContingencySimilarity   \n",
      "..                    ...                    ...                    ...   \n",
      "73  alien2_strength_level    alien2_intelligence  ContingencySimilarity   \n",
      "74  alien2_strength_level                 winner  ContingencySimilarity   \n",
      "75     alien2_speed_level    alien2_intelligence  ContingencySimilarity   \n",
      "76     alien2_speed_level                 winner  ContingencySimilarity   \n",
      "77    alien2_intelligence                 winner  ContingencySimilarity   \n",
      "\n",
      "       Score  Real Correlation  Synthetic Correlation  \n",
      "0   0.748500               NaN                    NaN  \n",
      "1   0.746233               NaN                    NaN  \n",
      "2   0.737900               NaN                    NaN  \n",
      "3   0.811567               NaN                    NaN  \n",
      "4   0.778467               NaN                    NaN  \n",
      "..       ...               ...                    ...  \n",
      "73  0.940500               NaN                    NaN  \n",
      "74  0.767067               NaN                    NaN  \n",
      "75  0.905700               NaN                    NaN  \n",
      "76  0.789333               NaN                    NaN  \n",
      "77  0.768800               NaN                    NaN  \n",
      "\n",
      "[78 rows x 6 columns]\n"
     ]
    }
   ],
   "execution_count": 30
  },
  {
   "metadata": {
    "ExecuteTime": {
     "end_time": "2025-06-13T14:11:02.303437Z",
     "start_time": "2025-06-13T14:11:02.176819Z"
    }
   },
   "cell_type": "code",
   "source": [
    "fig = synthesizer.get_loss_values_plot()\n",
    "fig.show()"
   ],
   "id": "4341f73f47797277",
   "outputs": [
    {
     "data": {
      "text/html": [
       "<iframe\n",
       "    scrolling=\"no\"\n",
       "    width=\"100%\"\n",
       "    height=\"545px\"\n",
       "    src=\"iframe_figures/figure_31.html\"\n",
       "    frameborder=\"0\"\n",
       "    allowfullscreen\n",
       "></iframe>\n"
      ]
     },
     "metadata": {},
     "output_type": "display_data"
    }
   ],
   "execution_count": 31
  },
  {
   "metadata": {
    "ExecuteTime": {
     "end_time": "2025-06-13T14:11:02.405166Z",
     "start_time": "2025-06-13T14:11:02.333781Z"
    }
   },
   "cell_type": "code",
   "source": [
    "# Visualize the distribution of a the winner column\n",
    "fig = get_column_plot(\n",
    "    real_data=real_data,\n",
    "    synthetic_data=synthetic_data,\n",
    "    column_name='winner',\n",
    "    metadata=metadata\n",
    ")\n",
    "\n",
    "fig.show()"
   ],
   "id": "35a5750b6d4b249f",
   "outputs": [
    {
     "data": {
      "text/html": [
       "<iframe\n",
       "    scrolling=\"no\"\n",
       "    width=\"100%\"\n",
       "    height=\"545px\"\n",
       "    src=\"iframe_figures/figure_32.html\"\n",
       "    frameborder=\"0\"\n",
       "    allowfullscreen\n",
       "></iframe>\n"
      ]
     },
     "metadata": {},
     "output_type": "display_data"
    }
   ],
   "execution_count": 32
  }
 ],
 "metadata": {
  "kernelspec": {
   "display_name": "Python 3",
   "language": "python",
   "name": "python3"
  },
  "language_info": {
   "codemirror_mode": {
    "name": "ipython",
    "version": 2
   },
   "file_extension": ".py",
   "mimetype": "text/x-python",
   "name": "python",
   "nbconvert_exporter": "python",
   "pygments_lexer": "ipython2",
   "version": "2.7.6"
  }
 },
 "nbformat": 4,
 "nbformat_minor": 5
}
