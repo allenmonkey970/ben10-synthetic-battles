{
 "cells": [
  {
   "metadata": {
    "ExecuteTime": {
     "end_time": "2025-06-14T22:25:19.948613Z",
     "start_time": "2025-06-14T22:25:19.943639Z"
    }
   },
   "cell_type": "code",
   "source": [
    "import pandas as pd\n",
    "from sdv.single_table import TVAESynthesizer\n",
    "from sdv.metadata import Metadata\n",
    "from sdv.metadata import SingleTableMetadata\n",
    "from sdv.evaluation.single_table import get_column_plot\n",
    "from sdv.evaluation.single_table import evaluate_quality\n",
    "import os"
   ],
   "id": "7dd9c28c7cfa5ff1",
   "outputs": [],
   "execution_count": 5
  },
  {
   "metadata": {
    "ExecuteTime": {
     "end_time": "2025-06-14T22:25:19.966465Z",
     "start_time": "2025-06-14T22:25:19.960371Z"
    }
   },
   "cell_type": "code",
   "source": [
    "# Load the real data\n",
    "real_data = pd.read_csv('../datasets/ben10_master.csv')"
   ],
   "id": "52036a6ae022549a",
   "outputs": [],
   "execution_count": 6
  },
  {
   "metadata": {
    "ExecuteTime": {
     "end_time": "2025-06-14T22:25:19.983297Z",
     "start_time": "2025-06-14T22:25:19.977976Z"
    }
   },
   "cell_type": "code",
   "source": [
    "# Load or create metadata\n",
    "metadata_path = 'metadata.json'\n",
    "\n",
    "if os.path.exists(metadata_path):\n",
    "    metadata = Metadata.load_from_json(metadata_path)\n",
    "    print(\"Loaded metadata from metadata.json\")\n",
    "else:\n",
    "    metadata = Metadata()\n",
    "    metadata.detect_table_from_dataframe(\n",
    "        table_name='ben10_table',\n",
    "        data=real_data\n",
    "    )\n",
    "    metadata.save_to_json(metadata_path)\n",
    "    print(\"Created and saved new metadata to metadata.json\")"
   ],
   "id": "ae34704f7b8accf",
   "outputs": [
    {
     "name": "stdout",
     "output_type": "stream",
     "text": [
      "Loaded metadata from metadata.json\n"
     ]
    }
   ],
   "execution_count": 7
  },
  {
   "metadata": {
    "ExecuteTime": {
     "end_time": "2025-06-14T22:25:48.328866Z",
     "start_time": "2025-06-14T22:25:19.995760Z"
    }
   },
   "cell_type": "code",
   "source": [
    "# Initialize and fit the TVAE Synthesizer\n",
    "synthesizer = TVAESynthesizer(\n",
    "    metadata,\n",
    "    enforce_min_max_values=True,\n",
    "    enforce_rounding=False,\n",
    "    epochs=2000,\n",
    "    verbose=True,\n",
    "    cuda=True,\n",
    ")\n",
    "synthesizer.fit(real_data)"
   ],
   "id": "83ab23b6c4b560d9",
   "outputs": [
    {
     "name": "stderr",
     "output_type": "stream",
     "text": [
      "Loss: 9.876: 100%|██████████| 2000/2000 [00:28<00:00, 70.74it/s] \n"
     ]
    }
   ],
   "execution_count": 8
  },
  {
   "metadata": {
    "ExecuteTime": {
     "end_time": "2025-06-14T22:25:48.765054Z",
     "start_time": "2025-06-14T22:25:48.350094Z"
    }
   },
   "cell_type": "code",
   "source": [
    "# Generate synthetic data\n",
    "synthetic_data = synthesizer.sample(num_rows=10000)"
   ],
   "id": "c16e177cc90eeaca",
   "outputs": [],
   "execution_count": 9
  },
  {
   "metadata": {
    "ExecuteTime": {
     "end_time": "2025-06-14T22:25:48.813470Z",
     "start_time": "2025-06-14T22:25:48.780057Z"
    }
   },
   "cell_type": "code",
   "source": [
    "# Save the synthetic data to a CSV file\n",
    "synthetic_data.to_csv('../datasets/ben10_TVAE_synthetic.csv', index=False)\n",
    "print(\"Synthetic dataset saved to ../datasets/ben10_TVAE_synthetic.csv\")"
   ],
   "id": "9aa091344c2aae7f",
   "outputs": [
    {
     "name": "stdout",
     "output_type": "stream",
     "text": [
      "Synthetic dataset saved to ../datasets/ben10_TVAE_synthetic.csv\n"
     ]
    }
   ],
   "execution_count": 10
  },
  {
   "metadata": {
    "ExecuteTime": {
     "end_time": "2025-06-14T22:25:49.213740Z",
     "start_time": "2025-06-14T22:25:48.817501Z"
    }
   },
   "cell_type": "code",
   "source": [
    "# Evaluate the quality of the synthetic data\n",
    "quality_report = evaluate_quality(\n",
    "    real_data,\n",
    "    synthetic_data,\n",
    "    metadata\n",
    ")\n",
    "print(\"Column Shapes Details:\", quality_report.get_details(property_name='Column Shapes'))\n",
    "print(\"Column Pair Trends Details:\", quality_report.get_details(property_name='Column Pair Trends'))"
   ],
   "id": "1aadb37f71538750",
   "outputs": [
    {
     "name": "stdout",
     "output_type": "stream",
     "text": [
      "Generating report ...\n",
      "\n",
      "(1/2) Evaluating Column Shapes: |██████████| 13/13 [00:00<00:00, 619.05it/s]|\n",
      "Column Shapes Score: 71.95%\n",
      "\n",
      "(2/2) Evaluating Column Pair Trends: |██████████| 78/78 [00:00<00:00, 216.67it/s]|\n",
      "Column Pair Trends Score: 46.56%\n",
      "\n",
      "Overall Score (Average): 59.25%\n",
      "\n",
      "Column Shapes Details:                    Column        Metric     Score\n",
      "0              alien_name  TVComplement  0.418633\n",
      "1              enemy_name  TVComplement  0.460367\n",
      "2          alien1_species  TVComplement  0.448267\n",
      "3      alien1_home_planet  TVComplement  0.753433\n",
      "4   alien1_strength_level  TVComplement  0.948933\n",
      "5      alien1_speed_level  TVComplement  0.967767\n",
      "6     alien1_intelligence  TVComplement  0.974933\n",
      "7          alien2_species  TVComplement  0.455467\n",
      "8      alien2_home_planet  TVComplement  0.525667\n",
      "9   alien2_strength_level  TVComplement  0.971300\n",
      "10     alien2_speed_level  TVComplement  0.936533\n",
      "11    alien2_intelligence  TVComplement  0.963867\n",
      "12                 winner  TVComplement  0.527833\n",
      "Column Pair Trends Details:                  Column 1               Column 2                 Metric  \\\n",
      "0              alien_name             enemy_name  ContingencySimilarity   \n",
      "1              alien_name         alien1_species  ContingencySimilarity   \n",
      "2              alien_name     alien1_home_planet  ContingencySimilarity   \n",
      "3              alien_name  alien1_strength_level  ContingencySimilarity   \n",
      "4              alien_name     alien1_speed_level  ContingencySimilarity   \n",
      "..                    ...                    ...                    ...   \n",
      "73  alien2_strength_level    alien2_intelligence  ContingencySimilarity   \n",
      "74  alien2_strength_level                 winner  ContingencySimilarity   \n",
      "75     alien2_speed_level    alien2_intelligence  ContingencySimilarity   \n",
      "76     alien2_speed_level                 winner  ContingencySimilarity   \n",
      "77    alien2_intelligence                 winner  ContingencySimilarity   \n",
      "\n",
      "       Score  Real Correlation  Synthetic Correlation  \n",
      "0   0.232400               NaN                    NaN  \n",
      "1   0.392033               NaN                    NaN  \n",
      "2   0.269467               NaN                    NaN  \n",
      "3   0.296800               NaN                    NaN  \n",
      "4   0.324233               NaN                    NaN  \n",
      "..       ...               ...                    ...  \n",
      "73  0.901800               NaN                    NaN  \n",
      "74  0.410967               NaN                    NaN  \n",
      "75  0.858800               NaN                    NaN  \n",
      "76  0.406100               NaN                    NaN  \n",
      "77  0.419100               NaN                    NaN  \n",
      "\n",
      "[78 rows x 6 columns]\n"
     ]
    }
   ],
   "execution_count": 11
  },
  {
   "metadata": {
    "ExecuteTime": {
     "end_time": "2025-06-14T22:26:41.671732Z",
     "start_time": "2025-06-14T22:26:41.526138Z"
    }
   },
   "cell_type": "code",
   "source": [
    "import matplotlib.pyplot as plt\n",
    "\n",
    "loss_df = synthesizer._model.loss_values\n",
    "\n",
    "plt.figure(figsize=(10, 5))\n",
    "plt.plot(loss_df['Epoch'], loss_df['Loss'], label='Loss')\n",
    "plt.xlabel('Epoch')\n",
    "plt.ylabel('Loss')\n",
    "plt.title('TVAE Training Loss')\n",
    "plt.legend()\n",
    "plt.show()"
   ],
   "id": "689a4c26a5980e02",
   "outputs": [
    {
     "data": {
      "text/plain": [
       "<Figure size 1000x500 with 1 Axes>"
      ],
      "image/png": "[encoded data removed]"
     },
     "metadata": {},
     "output_type": "display_data"
    }
   ],
   "execution_count": 14
  },
  {
   "metadata": {
    "ExecuteTime": {
     "end_time": "2025-06-14T22:26:46.037118Z",
     "start_time": "2025-06-14T22:26:45.400842Z"
    }
   },
   "cell_type": "code",
   "source": [
    "# Visualize the distribution of a the winner column\n",
    "fig = get_column_plot(\n",
    "    real_data=real_data,\n",
    "    synthetic_data=synthetic_data,\n",
    "    column_name='winner',\n",
    "    metadata=metadata\n",
    ")\n",
    "\n",
    "fig.show()"
   ],
   "id": "c64c049e9659f450",
   "outputs": [
    {
     "data": {
      "text/html": [
       "<iframe\n",
       "    scrolling=\"no\"\n",
       "    width=\"100%\"\n",
       "    height=\"545px\"\n",
       "    src=\"iframe_figures/figure_15.html\"\n",
       "    frameborder=\"0\"\n",
       "    allowfullscreen\n",
       "></iframe>\n"
      ]
     },
     "metadata": {},
     "output_type": "display_data"
    }
   ],
   "execution_count": 15
  }
 ],
 "metadata": {
  "kernelspec": {
   "display_name": "Python 3",
   "language": "python",
   "name": "python3"
  },
  "language_info": {
   "codemirror_mode": {
    "name": "ipython",
    "version": 2
   },
   "file_extension": ".py",
   "mimetype": "text/x-python",
   "name": "python",
   "nbconvert_exporter": "python",
   "pygments_lexer": "ipython2",
   "version": "2.7.6"
  }
 },
 "nbformat": 4,
 "nbformat_minor": 5
}
