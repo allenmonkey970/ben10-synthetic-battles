{
 "cells": [
  {
   "cell_type": "code",
   "id": "initial_id",
   "metadata": {
    "collapsed": true,
    "ExecuteTime": {
     "end_time": "2025-06-19T13:39:20.974222Z",
     "start_time": "2025-06-19T13:39:20.969458Z"
    }
   },
   "source": [
    "import pandas as pd\n",
    "import os\n",
    "from sdv.single_table import CopulaGANSynthesizer, CTGANSynthesizer, GaussianCopulaSynthesizer, TVAESynthesizer\n",
    "from sdv.metadata import Metadata"
   ],
   "outputs": [],
   "execution_count": 11
  },
  {
   "metadata": {
    "ExecuteTime": {
     "end_time": "2025-06-19T13:39:20.991893Z",
     "start_time": "2025-06-19T13:39:20.985900Z"
    }
   },
   "cell_type": "code",
   "source": [
    "# Load the real data\n",
    "real_data = pd.read_csv('../datasets/ben10_master.csv')"
   ],
   "id": "f2108aaca101dd41",
   "outputs": [],
   "execution_count": 12
  },
  {
   "metadata": {
    "ExecuteTime": {
     "end_time": "2025-06-19T13:39:21.018213Z",
     "start_time": "2025-06-19T13:39:21.012262Z"
    }
   },
   "cell_type": "code",
   "source": [
    "# Load or create metadata\n",
    "metadata_path = 'metadata.json'\n",
    "if os.path.exists(metadata_path):\n",
    "    metadata = Metadata.load_from_json(metadata_path)\n",
    "    print(\"Loaded metadata from metadata.json\")\n",
    "else:\n",
    "    metadata = Metadata()\n",
    "    metadata.detect_table_from_dataframe(\n",
    "        table_name='ben10_table',\n",
    "        data=real_data\n",
    "    )\n",
    "    metadata.save_to_json(metadata_path)\n",
    "    print(\"Created and saved new metadata to metadata.json\")"
   ],
   "id": "8e553eff5d77b3bb",
   "outputs": [
    {
     "name": "stdout",
     "output_type": "stream",
     "text": [
      "Loaded metadata from metadata.json\n"
     ]
    }
   ],
   "execution_count": 13
  },
  {
   "metadata": {
    "ExecuteTime": {
     "end_time": "2025-06-19T13:39:21.041119Z",
     "start_time": "2025-06-19T13:39:21.034988Z"
    }
   },
   "cell_type": "code",
   "source": [
    "synthesizers = [\n",
    "    {\n",
    "        # Uses a mix classic, statistical methods and GAN-based deep learning methods to train a model and generate synthetic data.\n",
    "        'name': 'CopulaGAN',\n",
    "        'class': CopulaGANSynthesizer,\n",
    "        'params': {\n",
    "            'enforce_min_max_values': True,\n",
    "            'enforce_rounding': False,\n",
    "            'epochs': 2000,\n",
    "            'verbose': True,\n",
    "            'cuda': True\n",
    "        },\n",
    "        'output': '../datasets/ben10_CopulaGAN_synthetic.csv'\n",
    "    },\n",
    "    {\n",
    "        # Uses GAN-based, deep learning methods to train a model and generate synthetic data.\n",
    "        'name': 'CTGAN',\n",
    "        'class': CTGANSynthesizer,\n",
    "        'params': {\n",
    "            'enforce_min_max_values': True,\n",
    "            'enforce_rounding': False,\n",
    "            'epochs': 4000,\n",
    "            'verbose': True,\n",
    "            'cuda': True\n",
    "        },\n",
    "        'output': '../datasets/ben10_CTGAN_synthetic.csv'\n",
    "    },\n",
    "    {\n",
    "        # Uses classic, statistical methods to train a model and generate synthetic data.\n",
    "        'name': 'GaussianCopula',\n",
    "        'class': GaussianCopulaSynthesizer,\n",
    "        'params': {\n",
    "            'enforce_min_max_values': True,\n",
    "            'enforce_rounding': False,\n",
    "        },\n",
    "        'output': '../datasets/ben10_GaussianCopula_synthetic.csv'\n",
    "    },\n",
    "    {\n",
    "        # Uses a variational autoencoder (VAE)-based, neural network techniques to train a model and generate synthetic data.\n",
    "        'name': 'TVAE',\n",
    "        'class': TVAESynthesizer,\n",
    "        'params': {\n",
    "            'enforce_min_max_values': True,\n",
    "            'enforce_rounding': False,\n",
    "            'epochs': 2000,\n",
    "            'verbose': True,\n",
    "            'cuda': True\n",
    "        },\n",
    "        'output': '../datasets/ben10_TVAE_synthetic.csv'\n",
    "    }\n",
    "]"
   ],
   "id": "108de35eb25225b6",
   "outputs": [],
   "execution_count": 14
  },
  {
   "metadata": {
    "ExecuteTime": {
     "end_time": "2025-06-19T13:48:06.064708Z",
     "start_time": "2025-06-19T13:39:21.055124Z"
    }
   },
   "cell_type": "code",
   "source": [
    "# Fit synthesizers and generate synthetic data\n",
    "for synth in synthesizers:\n",
    "    print(f\"\\nProcessing {synth['name']}...\")\n",
    "    SynthClass = synth['class']\n",
    "    if synth['name'] == 'GaussianCopula':\n",
    "        synthesizer = SynthClass(metadata)\n",
    "    else:\n",
    "        synthesizer = SynthClass(metadata, **synth['params'])\n",
    "    synthesizer.fit(real_data)\n",
    "    synthetic_data = synthesizer.sample(num_rows=10000)\n",
    "    synthetic_data.to_csv(synth['output'], index=False)\n",
    "    print(f\"Synthetic dataset saved to {synth['output']}\")"
   ],
   "id": "e19353b7bda257d0",
   "outputs": [
    {
     "name": "stdout",
     "output_type": "stream",
     "text": [
      "\n",
      "Processing CopulaGAN...\n"
     ]
    },
    {
     "name": "stderr",
     "output_type": "stream",
     "text": [
      "Gen. (-0.63) | Discrim. (-0.89): 100%|██████████| 2000/2000 [02:35<00:00, 12.86it/s]\n"
     ]
    },
    {
     "name": "stdout",
     "output_type": "stream",
     "text": [
      "Synthetic dataset saved to ../datasets/ben10_CopulaGAN_synthetic.csv\n",
      "\n",
      "Processing CTGAN...\n"
     ]
    },
    {
     "name": "stderr",
     "output_type": "stream",
     "text": [
      "Gen. (-0.60) | Discrim. (-0.49): 100%|██████████| 4000/4000 [05:40<00:00, 11.74it/s]\n"
     ]
    },
    {
     "name": "stdout",
     "output_type": "stream",
     "text": [
      "Synthetic dataset saved to ../datasets/ben10_CTGAN_synthetic.csv\n",
      "\n",
      "Processing GaussianCopula...\n",
      "Synthetic dataset saved to ../datasets/ben10_GaussianCopula_synthetic.csv\n",
      "\n",
      "Processing TVAE...\n"
     ]
    },
    {
     "name": "stderr",
     "output_type": "stream",
     "text": [
      "Loss: 10.599: 100%|██████████| 2000/2000 [00:26<00:00, 76.32it/s]\n"
     ]
    },
    {
     "name": "stdout",
     "output_type": "stream",
     "text": [
      "Synthetic dataset saved to ../datasets/ben10_TVAE_synthetic.csv\n"
     ]
    }
   ],
   "execution_count": 15
  }
 ],
 "metadata": {
  "kernelspec": {
   "display_name": "Python 3",
   "language": "python",
   "name": "python3"
  },
  "language_info": {
   "codemirror_mode": {
    "name": "ipython",
    "version": 2
   },
   "file_extension": ".py",
   "mimetype": "text/x-python",
   "name": "python",
   "nbconvert_exporter": "python",
   "pygments_lexer": "ipython2",
   "version": "2.7.6"
  }
 },
 "nbformat": 4,
 "nbformat_minor": 5
}
